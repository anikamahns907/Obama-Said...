{
 "cells": [
  {
   "cell_type": "code",
   "execution_count": 8,
   "metadata": {},
   "outputs": [],
   "source": [
    "from selenium import webdriver\n",
    "\n",
    "from random import randint\n",
    "from time import sleep\n",
    "\n",
    "\n",
    "    "
   ]
  },
  {
   "cell_type": "code",
   "execution_count": 18,
   "metadata": {},
   "outputs": [],
   "source": [
    "driver = webdriver.Chrome() \n",
    "\n",
    "driver.get('https://www.instagram.com/?hl=en') "
   ]
  },
  {
   "cell_type": "code",
   "execution_count": 19,
   "metadata": {},
   "outputs": [
    {
     "name": "stdout",
     "output_type": "stream",
     "text": [
      "Email Id entered\n",
      "Email Id entered\n"
     ]
    }
   ],
   "source": [
    "usr= \"anikamahns\"  \n",
    "pwd= \"Life2020\"\n",
    "\n",
    "pwdInput = driver.find_element_by_xpath('//*[@id=\"react-root\"]/section/main/article/div[2]/div[1]/div/form/div[3]/div/label/input')\n",
    "usrInput = driver.find_element_by_xpath('//*[@id=\"react-root\"]/section/main/article/div[2]/div[1]/div/form/div[2]/div/label/input')\n",
    "\n",
    "\n",
    "usrInput.send_keys(usr) \n",
    "print (\"Email Id entered\") \n",
    "sleep(1) \n",
    "\n",
    "pwdInput.send_keys(pwd) \n",
    "print (\"Email Id entered\") \n",
    "sleep(1) \n",
    "\n",
    "loginInput = driver.find_element_by_xpath('//*[@id=\"react-root\"]/section/main/article/div[2]/div[1]/div/form/div[4]')\n",
    "loginInput.click()\n",
    "\n",
    "sleep(3)\n",
    "\n"
   ]
  },
  {
   "cell_type": "code",
   "execution_count": 31,
   "metadata": {},
   "outputs": [
    {
     "name": "stdout",
     "output_type": "stream",
     "text": [
      "⁣On this day 50 years ago, millions of people from every corner of our country joined in common cause to demand basic protections to safeguard our planet for future generations. The first Earth Day helped transform the ways we interact with the world around us, and it changed how we viewed our impact on the natural world––inspiring the creation of the Environmental Protection Agency and landmark legislation that protected the air we breathe, the water we drank, and the animals that lived alongside us. ⠀\n",
      "⠀\n",
      "Today, we’re reminded more than ever of the role we play–and the responsibility of our government––to ensure that we do not pass a world beyond repair on to our children. And that starts by not denying the evidence presented by scientists and climate activists around climate change. We must demand more from our government, return to the Paris Agreement, and work to lead the world in reducing the pollution that continues to cause climate change. And science is telling us to go much further––we must continue to accelerate progress on bold new green initiatives that make our economy a clean energy innovator. ⠀\n",
      "⠀\n",
      "When I think of the world I want to see in the future for my daughters––and the children across the world––I’m reminded that there is so much more we need to do to take care of the one planet we've got, and it’s up to all of us to demand and lead that change.\n"
     ]
    }
   ],
   "source": [
    "driver.get('https://www.instagram.com/barackobama/?hl=en') \n",
    "sleep(3)\n",
    "firstInput = driver.find_element_by_xpath('//*[@id=\"react-root\"]/section/main/div/div[2]/article/div[1]/div/div[1]/div[1]/a/div/div[2]')\n",
    "\n",
    "firstInput.click()\n",
    "sleep(5)\n",
    "\n",
    "while (True):\n",
    "    try:\n",
    "        #liking pic\n",
    "        likeButton = driver.find_element_by_xpath('/html/body/div[4]/div[2]/div/article/div[2]/section[1]/span[1]/button')\n",
    "        likeButton.click()\n",
    "        \n",
    "        #selecting caption\n",
    "        obamaText = driver.find_element_by_xpath('/html/body/div[4]/div[2]/div/article/div[2]/div[1]/ul/div/li/div/div/div[2]/span').text\n",
    "        print(obamaText)\n",
    "        #saving caption\n",
    "        file1 = open(\"obamasaid.txt\",\"a\") #opens file called obamasaid\n",
    "        file1.write(obamaText) #adds whatever is in obamatext variable text\n",
    "        file1.close() #close file\n",
    "        \n",
    "        #going to next post\n",
    "        firstarrowInput = driver.find_element_by_xpath('/html/body/div[4]/div[1]/div/div/a')\n",
    "        firstarrowInput.click()\n",
    "        sleep(randint(3,5))\n",
    "    except: \n",
    "        print(\"End of posts\")\n",
    "        break\n"
   ]
  },
  {
   "cell_type": "code",
   "execution_count": 17,
   "metadata": {},
   "outputs": [],
   "source": [
    "# make a sleep after login\n",
    "# go to oboma page\n",
    "# click first post\n",
    "# wait one - two seconds\n",
    "# print caption\n",
    "# like photo\n",
    "# wait\n",
    "# then click right arrow"
   ]
  },
  {
   "cell_type": "code",
   "execution_count": null,
   "metadata": {},
   "outputs": [],
   "source": []
  },
  {
   "cell_type": "code",
   "execution_count": null,
   "metadata": {},
   "outputs": [],
   "source": []
  }
 ],
 "metadata": {
  "kernelspec": {
   "display_name": "Python 3",
   "language": "python",
   "name": "python3"
  },
  "language_info": {
   "codemirror_mode": {
    "name": "ipython",
    "version": 3
   },
   "file_extension": ".py",
   "mimetype": "text/x-python",
   "name": "python",
   "nbconvert_exporter": "python",
   "pygments_lexer": "ipython3",
   "version": "3.7.6"
  }
 },
 "nbformat": 4,
 "nbformat_minor": 4
}
