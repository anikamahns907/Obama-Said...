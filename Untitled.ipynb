{
 "cells": [
  {
   "cell_type": "code",
   "execution_count": 39,
   "metadata": {},
   "outputs": [],
   "source": [
    "from selenium import webdriver\n",
    "from random import randint\n",
    "from time import sleep    "
   ]
  },
  {
   "cell_type": "code",
   "execution_count": 18,
   "metadata": {},
   "outputs": [],
   "source": [
    "driver = webdriver.Chrome() \n",
    "\n",
    "driver.get('https://www.instagram.com/?hl=en') "
   ]
  },
  {
   "cell_type": "code",
   "execution_count": 19,
   "metadata": {},
   "outputs": [
    {
     "name": "stdout",
     "output_type": "stream",
     "text": [
      "Email Id entered\n",
      "Email Id entered\n"
     ]
    }
   ],
   "source": [
    "usr= \"anikamahns\"  \n",
    "pwd= \"Life2020\"\n",
    "\n",
    "pwdInput = driver.find_element_by_xpath('//*[@id=\"react-root\"]/section/main/article/div[2]/div[1]/div/form/div[3]/div/label/input')\n",
    "usrInput = driver.find_element_by_xpath('//*[@id=\"react-root\"]/section/main/article/div[2]/div[1]/div/form/div[2]/div/label/input')\n",
    "\n",
    "\n",
    "usrInput.send_keys(usr) \n",
    "print (\"Email Id entered\") \n",
    "sleep(1) \n",
    "\n",
    "pwdInput.send_keys(pwd) \n",
    "print (\"Email Id entered\") \n",
    "sleep(1) \n",
    "\n",
    "loginInput = driver.find_element_by_xpath('//*[@id=\"react-root\"]/section/main/article/div[2]/div[1]/div/form/div[4]')\n",
    "loginInput.click()\n",
    "\n",
    "sleep(3)\n",
    "\n"
   ]
  },
  {
   "cell_type": "code",
   "execution_count": null,
   "metadata": {},
   "outputs": [
    {
     "name": "stdout",
     "output_type": "stream",
     "text": [
      "⁣On this day 50 years ago, millions of people from every corner of our country joined in common cause to demand basic protections to safeguard our planet for future generations. The first Earth Day helped transform the ways we interact with the world around us, and it changed how we viewed our impact on the natural world––inspiring the creation of the Environmental Protection Agency and landmark legislation that protected the air we breathe, the water we drank, and the animals that lived alongside us. ⠀\n",
      "⠀\n",
      "Today, we’re reminded more than ever of the role we play–and the responsibility of our government––to ensure that we do not pass a world beyond repair on to our children. And that starts by not denying the evidence presented by scientists and climate activists around climate change. We must demand more from our government, return to the Paris Agreement, and work to lead the world in reducing the pollution that continues to cause climate change. And science is telling us to go much further––we must continue to accelerate progress on bold new green initiatives that make our economy a clean energy innovator. ⠀\n",
      "⠀\n",
      "When I think of the world I want to see in the future for my daughters––and the children across the world––I’m reminded that there is so much more we need to do to take care of the one planet we've got, and it’s up to all of us to demand and lead that change.\n",
      "⁣It doesn’t take a pandemic to see how vital mentorship programs are to our communities—they ensure young people, especially those growing up in underserved neighborhoods, don’t get left behind. I’d like to share the story of one mentorship organization going above and beyond in my hometown. ⠀\n",
      "⠀\n",
      "Since 2005, New Life Centers of Chicagoland, a MBK Alliance Seed Community partner organization, has been providing mentorship and outreach to kids in the Little Village, Brighton Park, Humboldt Park, and Midway neighborhoods. The idea is that mentors and youth “walk together” through life—not just in the big moments, but through all the milestones in between so they never have to feel like they’re alone.⠀\n",
      "⠀\n",
      "New Life Centers knew that this crisis wouldn’t just change the way their mentorship programming worked––they knew they had to adapt to meet the new needs of the youth they served. And for a lot of the families in their neighborhoods, the crisis has made a disproportionate impact. It meant hunger. It meant loss. But it didn’t mean losing hope. ⠀\n",
      "⠀\n",
      "Since Chicago started sheltering in place, New Life Centers has been safely distributing healthy food to more than 400 families a week. They’ve also kept up their mentoring, tutoring, street outreach and even deployed video game consoles for virtual tournaments to keep up a little joyful communication and competition while families stay home. They’re still making sure that no kid has to walk alone, even if they can’t walk together right now. ⠀\n",
      "⠀\n",
      "When you ask New Life Centers staff what keeps them motivated to see this work through, it’s an answer that rings true for so many organizations just like theirs: “Our young people keep us motivated. We know they’re facing the same challenges we are. And that’s why we do the work. We just want to make sure they know they have someone in their corner.”\n",
      "I’m proud to endorse my friend Joe Biden for President of the United States\n",
      "\n",
      "If there’s one thing we’ve learned as a country from moments of great crisis, it’s that the American spirit of looking out for one another can’t be restricted to our homes, or our workplaces, or our neighborhoods, or our houses of worship. It also has to be reflected in our national government. The kind of leadership that’s guided by knowledge and experience; honesty and humility; empathy and grace – that kind of leadership doesn’t just belong in our state capitols and mayors offices. It belongs in the White House.\n",
      "That’s why I’m so proud to endorse @JoeBiden for President of the United States.\n",
      "\n",
      "Choosing Joe to be my Vice President was one of the best decisions I ever made. He’s got the character and the experience to guide us through one of our darkest times and heal us through a long recovery. And I’ve got a lot more to say about why Joe should be President in the video. I hope you give it a watch. Then I hope you’ll join us at JoeBiden.com and make a plan for how you’re going to get involved.\n",
      "Although our celebrations may look different this year, our unwavering faith remains the same. For me, Easter is a time of hope––a reminder of rebirth and renewal––and a belief in a better day to come. From my family to yours, we wish you all a blessed and joyful Easter.\n",
      "⁣We owe a profound debt of gratitude to all the people working on the frontlines. From our medical professionals to our grocery store clerks, we’ve seen people step up and make endless sacrifices to help us get through this pandemic. Today, I’ll be sharing the story of one of those leaders on the frontlines and my friend, @chefjoseandres. ⠀⁣ ⠀⁣\n",
      "Throughout this pandemic, his organization the @wckitchen has stepped up to support over 20 cities across the country. Here’s what motivates Jose and how we all can play a role in supporting our communities: ⠀⁣ ⠀⁣\n",
      "“We are living a moment that will define generations. We will look back on these days as the world changes into something new, and we will ask ourselves…what did we do to help? To help the marginalized and vulnerable, to help the heroes working on the front lines, to help the huddled masses among us? ⠀⁣ ⠀⁣\n",
      "From Hurricane Maria in Puerto Rico to the wildfires in California, to tornadoes and floods across the country to a humanitarian crisis on our southern border, World Central Kitchen’s journey to serving over 15 million meals has taught us one essential lesson: instead of being paralyzed by the magnitude of a problem, we can choose to be part of the solution by coming together to just start cooking.” ⠀⁣ ⠀⁣\n",
      "“There are so, so many ways you can help. Buy a meal for the medical professionals and first responders working day and night to keep us healthy and safe. Check in on elderly neighbors to make sure they aren’t forgotten. Wash your hands. Stay home if you can and listen to the experts, always. Being kind and caring for one another. Make sure to leave enough for the next person. Your empathy will reach beyond six feet!”\n",
      "Cecilia Muñoz has been a champion for immigration and civil rights, a MacArthur Fellow recipient, and a great friend––and I was proud to have her on my team as one of my senior advisors during my presidency. In her new book, More Than Ready, she shares her story and an empowering message to women, especially women of color, that they are the leaders we need to make a change in our world.\n",
      "The Reverend Joseph Lowery was born and raised in Jim Crow Alabama with no power or privilege to speak of. But he had preaching in his blood. He had a conviction that he could join and inspire others to push for change.\n",
      "From those early days of the movement to his long leadership of the Southern Christian Leadership Conference, he did so much to carry us ever closer to the just, fair, inclusive, and generous America promised in our founding ideals.\n",
      "Reverend Lowery changed the face of America. He carried the baton longer and surer than almost anybody. It falls to the rest of us now to pick it up and never stop moving forward until we finish what he started–that journey to justice. Michelle and I remember him fondly today, and our love and prayers are with his family and his nationwide flock.\n",
      "In America, we all share the responsibility of looking out for one another. That’s never more true than in times like right now. And as long as so many of us are at home, here’s a new film that shows that responsibility in action. @CripCampFilm shares the stories of the young people who went on to lead the disability rights movement – young people without wealth, or power, or sometimes even respect, who came together to change this country’s course. It’s eye-opening, uplifting, and full of the kind of empathy for others that all of us need to summon going forward.\n",
      "Ten years ago today, I signed the Affordable Care Act into law. It protected preexisting conditions, cut the uninsured rate in half, and lots more. But it's still under political attack right when we need care the most. We have to protect it, build on it, until we cover everyone.\n"
     ]
    },
    {
     "name": "stdout",
     "output_type": "stream",
     "text": [
      "55 years ago, in Selma, Alabama, John Lewis and Amelia Boynton Robinson were two of the many civil rights organizers who were beaten for the simple act of attempting to cross the Edmund Pettus Bridge. In 2015, Michelle and I, along with Michelle’s mother and our girls – three generations, hand-in-hand – joined these heroes to walk the path that they had paved.\n",
      "The story of Selma is quintessentially American – it’s the story of ordinary people coming together to shape our nation’s course because they believed in the simple idea that people who love their country can change it.\n",
      "Today, the march goes on. But the way forward is a little easier, thanks to all those who came before us, who sacrificed everything for the foundation stone of democracy – the right to vote. Now it’s up to us to honor their legacy by protecting and exercising that precious right, knowing that the work of perfecting our union is never done.\n",
      "Six years ago today, we launched the My Brother’s Keeper initiative at the White House, a call on us all to recognize that America would never live up to its potential unless our boys and young men of color could live up to theirs. We all have a stake in their success. We are all our brother’s keeper.\n",
      "This photo was taken at a gathering of the young people whose lives that work has touched, many of them now leaders and mentors themselves. When I entered the auditorium, I saw a room full of promising young men who deserved a nation willing to embrace them, invest in their dreams, and love them as their own.\n",
      "If you know Chicago, you know my hometown has a thing about sports. It’s not just about a little healthy crosstown competition, or a streak of championships in the 90s—it’s that spirit of collective power that makes it possible to find hope for what's to come, even on the coldest February day.\n",
      "Today in Chicago, my friends @realmikewilbon, @giannis_an34, @kevinlove, and @cp3 joined me for a conversation about that unique power of sports to uplift a community and congregate the next generation of leaders—and how the future Obama Presidential Center will do just that for kids on the South Side.\n",
      "Happy Valentine’s Day to my forever dance partner, @MichelleObama.\n",
      "Thirty years on, I remember the hope we all felt watching Mandela’s release from prison. The gift of a new way of seeing. The chance to participate in the work of building a better world. The ultimate example of perseverance and faith for each new generation to follow.‬\n",
      "In every scene, you are my star, @MichelleObama! Happy birthday, baby!\n",
      "Oscar nominations came out today and I’m glad to see American Factory’s nod for Best Documentary. I like this film for its nuanced, honest portrayal of the way a changing global economy plays out in real lives. It offers a window into people as they actually are and it’s the kind of story we don’t see often enough. This is exactly what Michelle and I hope to achieve through Higher Ground. Congratulations to the incredible filmmakers Julia Reichert and Steven Bognar, and the entire team!\n",
      "From hip-hop to country to The Boss, here are my songs of the year. If you’re looking for something to keep you company on a long drive or help you turn up a workout, I hope there’s a track or two in here that does the trick.\n",
      "Next up are my favorite movies and TV shows of 2019. This year’s list includes everything from explorations of class dynamics and relationships, to an inspired reboot of a classic graphic novel, to a portal back to one of the most special places in history — an Aretha Franklin concert. Of course, there’s also American Factory, a film from our own production company, Higher Ground, that was recently shortlisted for an Oscar. It’s our first offering in partnership with Netflix, and I’m excited about the other projects we’ve got in the works. Here’s the full list:\n",
      "Over the next few days, I’ll be sharing my annual list of favorites — books, films, and music — with all of you. This has become a fun little tradition for me, and I hope it is for you, too. Because while each of us has plenty that keeps us busy—work and family life, social and volunteer commitments—outlets like literature and art can enhance our day-to-day experiences. They’re the fabric that helps make up a life—the album that lifts us up after a long day, the dog-eared paperback we grab off the shelf to give to a friend, the movie that makes us think and feel in a new way, works that simply help us escape for a bit. To start, here are the books that made the last year a little brighter for me. Most of them came out in 2019, but a few were older ones that were new to me this year. I hope you enjoy them as much as I did.\n",
      "From the Obama family to yours, Merry Christmas!\n",
      "Last week, Michelle and I had a chance to join the @ObamaFoundation Leaders for an afternoon of community service in Kuala Lumpur. Together, we built furniture for local schools in need of some refurbishing. It was inspiring to see these emerging young leaders so motivated to help those in need—and a reminder that Michelle is much better with power tools than I am.\n",
      "Growing up in Indonesia and Hawaii instilled in me a sense of cooperation and community. It was meaningful to return to the region with my little sister Maya and spend time with hundreds of emerging @ObamaFoundation leaders from across the Asia Pacific. My message to them was simple: Rejoice in this opportunity to change the world. If we stick with it, even if we can't always see it ourselves, we will change the world for the better.\n",
      "I thought it was about time I share my holiday gift list — a few practical, affordable items, all for $10 or less. But the best one is no joke: Health care for you or somebody you care about. This year, most current HealthCare.gov customers can find an insurance plan with a monthly premium of $10 or less. The deadline to sign up is December 15, so head to HealthCare.gov and get covered.\n",
      "Today, we give thanks for our blessings, give back to those around us, and enjoy some time — and turkey, and maybe a little football — with the ones we love. From the Obama family to yours, Happy Thanksgiving.\n"
     ]
    }
   ],
   "source": [
    "driver.get('https://www.instagram.com/barackobama/?hl=en') \n",
    "sleep(3)\n",
    "firstInput = driver.find_element_by_xpath('//*[@id=\"react-root\"]/section/main/div/div[2]/article/div[1]/div/div[1]/div[1]/a/div/div[2]')\n",
    "\n",
    "firstInput.click()\n",
    "sleep(5)\n",
    "counter = 0\n",
    "while (True):\n",
    "#     try:\n",
    "        \n",
    "        #liking pic\n",
    "        likeButton = driver.find_element_by_xpath('/html/body/div[4]/div[2]/div/article/div[2]/section[1]/span[1]/button')\n",
    "        likeButton.click()\n",
    "        \n",
    "        #selecting caption\n",
    "        obamaText = driver.find_element_by_xpath('/html/body/div[4]/div[2]/div/article/div[2]/div[1]/ul/div/li/div/div/div[2]/span').text\n",
    "        print(obamaText)\n",
    "        #saving caption\n",
    "        file1 = open(\"obamasaid.txt\",\"a\") #opens file called obamasaid\n",
    "        file1.write(str(obamaText.encode('utf8'))) #adds whatever is in obamatext variable text\n",
    "        file1.close() #close file\n",
    "        \n",
    "        if (counter == 0):\n",
    "            #going to next post\n",
    "            firstarrowInput = driver.find_element_by_xpath('/html/body/div[4]/div[1]/div/div/a')\n",
    "        else:\n",
    "            firstarrowInput = driver.find_element_by_xpath('/html/body/div[4]/div[1]/div/div/a[2]')\n",
    "        \n",
    "        firstarrowInput.click()\n",
    "        sleep(randint(3,5))\n",
    "        counter = counter + 1\n",
    "\n",
    "#     except: \n",
    "#         print(\"End of posts\")\n",
    "#         break\n"
   ]
  },
  {
   "cell_type": "code",
   "execution_count": 17,
   "metadata": {},
   "outputs": [],
   "source": [
    "# make a sleep after login\n",
    "# go to oboma page\n",
    "# click first post\n",
    "# wait one - two seconds\n",
    "# print caption\n",
    "# like photo\n",
    "# wait\n",
    "# then click right arrow"
   ]
  },
  {
   "cell_type": "code",
   "execution_count": null,
   "metadata": {},
   "outputs": [],
   "source": []
  },
  {
   "cell_type": "code",
   "execution_count": null,
   "metadata": {},
   "outputs": [],
   "source": []
  }
 ],
 "metadata": {
  "kernelspec": {
   "display_name": "Python 3",
   "language": "python",
   "name": "python3"
  },
  "language_info": {
   "codemirror_mode": {
    "name": "ipython",
    "version": 3
   },
   "file_extension": ".py",
   "mimetype": "text/x-python",
   "name": "python",
   "nbconvert_exporter": "python",
   "pygments_lexer": "ipython3",
   "version": "3.7.6"
  }
 },
 "nbformat": 4,
 "nbformat_minor": 4
}
